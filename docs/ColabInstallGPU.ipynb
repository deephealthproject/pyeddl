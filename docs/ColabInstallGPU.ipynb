{
  "nbformat": 4,
  "nbformat_minor": 0,
  "metadata": {
    "colab": {
      "name": "ColabInstallGPU.ipynb",
      "provenance": [],
      "collapsed_sections": [],
      "authorship_tag": "ABX9TyOk23OWEwdLEnpjg4vXCCEE"
    },
    "kernelspec": {
      "name": "python3",
      "display_name": "Python 3"
    },
    "language_info": {
      "name": "python"
    },
    "accelerator": "GPU"
  },
  "cells": [
    {
      "cell_type": "markdown",
      "metadata": {
        "id": "woHcMFMY3vIa"
      },
      "source": [
        "**Notes:**\n",
        "\n",
        "*   Before running this notebook, change the runtime type to \"GPU\"\n",
        "*   Don't execute all cells with \"Run all\"; run them one by one\n",
        "*   condacolab supports only the base environment\n",
        "\n"
      ]
    },
    {
      "cell_type": "code",
      "metadata": {
        "colab": {
          "base_uri": "https://localhost:8080/"
        },
        "id": "9ofT1D8UrAB5",
        "outputId": "add8404d-19a3-4cef-a110-c49489a06754"
      },
      "source": [
        "!pip install condacolab"
      ],
      "execution_count": 1,
      "outputs": [
        {
          "output_type": "stream",
          "name": "stdout",
          "text": [
            "Collecting condacolab\n",
            "  Downloading condacolab-0.1.3-py3-none-any.whl (6.8 kB)\n",
            "Installing collected packages: condacolab\n",
            "Successfully installed condacolab-0.1.3\n"
          ]
        }
      ]
    },
    {
      "cell_type": "code",
      "metadata": {
        "colab": {
          "base_uri": "https://localhost:8080/"
        },
        "id": "8oBSA_AErJi8",
        "outputId": "8c6df19a-f3bd-4685-965d-1b44fd4e1482"
      },
      "source": [
        "import condacolab\n",
        "condacolab.install_miniconda()"
      ],
      "execution_count": 2,
      "outputs": [
        {
          "output_type": "stream",
          "name": "stdout",
          "text": [
            "⏬ Downloading https://repo.anaconda.com/miniconda/Miniconda3-py37_4.9.2-Linux-x86_64.sh...\n",
            "📦 Installing...\n",
            "📌 Adjusting configuration...\n",
            "🩹 Patching environment...\n",
            "⏲ Done in 0:00:30\n",
            "🔁 Restarting kernel...\n"
          ]
        }
      ]
    },
    {
      "cell_type": "code",
      "metadata": {
        "colab": {
          "base_uri": "https://localhost:8080/"
        },
        "id": "U9tjpIeOsdRC",
        "outputId": "8942ac76-c786-4440-ecb1-07e7f6795bfe"
      },
      "source": [
        "!conda --version"
      ],
      "execution_count": 1,
      "outputs": [
        {
          "output_type": "stream",
          "name": "stdout",
          "text": [
            "conda 4.9.2\n"
          ]
        }
      ]
    },
    {
      "cell_type": "code",
      "metadata": {
        "colab": {
          "base_uri": "https://localhost:8080/"
        },
        "id": "bKzG09sBspFm",
        "outputId": "39c9072d-9da9-4369-c669-e8ffa37ccd8c"
      },
      "source": [
        "!cat /usr/local/conda-meta/pinned"
      ],
      "execution_count": 2,
      "outputs": [
        {
          "output_type": "stream",
          "name": "stdout",
          "text": [
            "python 3.7.*\n",
            "python_abi 3.7.* *cp37*\n",
            "cudatoolkit 11.1.*\n"
          ]
        }
      ]
    },
    {
      "cell_type": "code",
      "metadata": {
        "colab": {
          "base_uri": "https://localhost:8080/"
        },
        "id": "5Ic4l280srrZ",
        "outputId": "dd797f74-2a1f-441e-e922-c53d439998aa"
      },
      "source": [
        "!sed -i '/cudatoolkit/d' /usr/local/conda-meta/pinned\n",
        "!cat /usr/local/conda-meta/pinned"
      ],
      "execution_count": 3,
      "outputs": [
        {
          "output_type": "stream",
          "name": "stdout",
          "text": [
            "python 3.7.*\n",
            "python_abi 3.7.* *cp37*\n"
          ]
        }
      ]
    },
    {
      "cell_type": "code",
      "metadata": {
        "id": "FgfKPq-_suYq"
      },
      "source": [
        "!conda config --add channels dhealth\n",
        "!conda config --add channels bioconda\n",
        "!conda config --add channels conda-forge\n",
        "!conda config --set channel_priority strict"
      ],
      "execution_count": 4,
      "outputs": []
    },
    {
      "cell_type": "code",
      "metadata": {
        "colab": {
          "base_uri": "https://localhost:8080/"
        },
        "id": "6MKR-RKNsyr3",
        "outputId": "5244ac1d-be0a-4816-854a-91167e8cdb71"
      },
      "source": [
        "!conda install pyeddl-gpu"
      ],
      "execution_count": 5,
      "outputs": [
        {
          "output_type": "stream",
          "name": "stdout",
          "text": [
            "Collecting package metadata (current_repodata.json): - \b\b\\ \b\b| \b\b/ \b\b- \b\b\\ \b\b| \b\b/ \b\b- \b\b\\ \b\b| \b\b/ \b\b- \b\b\\ \b\b| \b\b/ \b\b- \b\b\\ \b\b| \b\b/ \b\b- \b\b\\ \b\b| \b\b/ \b\b- \b\b\\ \b\b| \b\b/ \b\b- \b\b\\ \b\b| \b\b/ \b\b- \b\b\\ \b\b| \b\b/ \b\b- \b\b\\ \b\b| \b\b/ \b\b- \b\b\\ \b\b| \b\b/ \b\b- \b\b\\ \b\b| \b\b/ \b\b- \b\b\\ \b\b| \b\b/ \b\b- \b\b\\ \b\b| \b\b/ \b\b- \b\b\\ \b\b| \b\b/ \b\b- \b\b\\ \b\b| \b\b/ \b\b- \b\b\\ \b\b| \b\b/ \b\b- \b\b\\ \b\b| \b\b/ \b\b- \b\b\\ \b\b| \b\b/ \b\b- \b\b\\ \b\b| \b\b/ \b\b- \b\b\\ \b\b| \b\b/ \b\b- \b\b\\ \b\b| \b\b/ \b\b- \b\b\\ \b\b| \b\b/ \b\b- \b\b\\ \b\b| \b\b/ \b\b- \b\b\\ \b\b| \b\b/ \b\b- \b\b\\ \b\b| \b\b/ \b\b- \b\b\\ \b\b| \b\b/ \b\b- \b\b\\ \b\b| \b\b/ \b\b- \b\b\\ \b\b| \b\b/ \b\b- \b\b\\ \b\b| \b\b/ \b\b- \b\b\\ \b\b| \b\b/ \b\b- \b\b\\ \b\b| \b\b/ \b\bdone\n",
            "Solving environment: \\ \b\b| \b\b/ \b\b- \b\b\\ \b\b| \b\b/ \b\b- \b\b\\ \b\b| \b\b/ \b\b- \b\b\\ \b\b| \b\b/ \b\b- \b\b\\ \b\b| \b\b/ \b\b- \b\b\\ \b\b| \b\b/ \b\b- \b\b\\ \b\b| \b\b/ \b\b- \b\b\\ \b\b| \b\b/ \b\b- \b\b\\ \b\b| \b\b/ \b\b- \b\b\\ \b\b| \b\b/ \b\b- \b\b\\ \b\b| \b\b/ \b\b- \b\b\\ \b\b| \b\bfailed with initial frozen solve. Retrying with flexible solve.\n",
            "Solving environment: - \b\b\\ \b\b| \b\b/ \b\b- \b\b\\ \b\b| \b\b/ \b\b- \b\b\\ \b\b| \b\b/ \b\b- \b\b\\ \b\b| \b\b/ \b\b- \b\b\\ \b\b| \b\b/ \b\b- \b\b\\ \b\b| \b\b/ \b\b- \b\b\\ \b\b| \b\b/ \b\b- \b\b\\ \b\b| \b\b/ \b\b- \b\b\\ \b\b| \b\b/ \b\b- \b\b\\ \b\b| \b\b/ \b\b- \b\b\\ \b\b| \b\b/ \b\b- \b\b\\ \b\b| \b\b/ \b\b- \b\b\\ \b\b| \b\b/ \b\b- \b\b\\ \b\b| \b\b/ \b\b- \b\b\\ \b\b| \b\b/ \b\b- \b\b\\ \b\b| \b\b/ \b\b- \b\b\\ \b\bfailed with repodata from current_repodata.json, will retry with next repodata source.\n",
            "Collecting package metadata (repodata.json): / \b\b- \b\b\\ \b\b| \b\b/ \b\b- \b\b\\ \b\b| \b\b/ \b\b- \b\b\\ \b\b| \b\b/ \b\b- \b\b\\ \b\b| \b\b/ \b\b- \b\b\\ \b\b| \b\b/ \b\b- \b\b\\ \b\b| \b\b/ \b\b- \b\b\\ \b\b| \b\b/ \b\b- \b\b\\ \b\b| \b\b/ \b\b- \b\b\\ \b\b| \b\b/ \b\b- \b\b\\ \b\b| \b\b/ \b\b- \b\b\\ \b\b| \b\b/ \b\b- \b\b\\ \b\b| \b\b/ \b\b- \b\b\\ \b\b| \b\b/ \b\b- \b\b\\ \b\b| \b\b/ \b\b- \b\b\\ \b\b| \b\b/ \b\b- \b\b\\ \b\b| \b\b/ \b\b- \b\b\\ \b\b| \b\b/ \b\b- \b\b\\ \b\b| \b\b/ \b\b- \b\b\\ \b\b| \b\b/ \b\b- \b\b\\ \b\b| \b\b/ \b\b- \b\b\\ \b\b| \b\b/ \b\b- \b\b\\ \b\b| \b\b/ \b\b- \b\b\\ \b\b| \b\b/ \b\b- \b\b\\ \b\b| \b\b/ \b\b- \b\b\\ \b\b| \b\b/ \b\b- \b\b\\ \b\b| \b\b/ \b\b- \b\b\\ \b\b| \b\b/ \b\b- \b\b\\ \b\b| \b\b/ \b\b- \b\b\\ \b\b| \b\b/ \b\b- \b\b\\ \b\b| \b\b/ \b\b- \b\b\\ \b\b| \b\b/ \b\b- \b\b\\ \b\b| \b\b/ \b\b- \b\b\\ \b\b| \b\b/ \b\b- \b\b\\ \b\b| \b\b/ \b\b- \b\b\\ \b\b| \b\b/ \b\b- \b\b\\ \b\b| \b\b/ \b\b- \b\b\\ \b\b| \b\b/ \b\b- \b\b\\ \b\b| \b\b/ \b\b- \b\b\\ \b\b| \b\b/ \b\b- \b\b\\ \b\b| \b\b/ \b\b- \b\b\\ \b\b| \b\b/ \b\b- \b\b\\ \b\b| \b\b/ \b\b- \b\b\\ \b\b| \b\b/ \b\b- \b\b\\ \b\b| \b\b/ \b\b- \b\b\\ \b\b| \b\b/ \b\b- \b\b\\ \b\b| \b\b/ \b\b- \b\b\\ \b\b| \b\b/ \b\b- \b\b\\ \b\b| \b\b/ \b\b- \b\b\\ \b\b| \b\b/ \b\b- \b\b\\ \b\b| \b\b/ \b\b- \b\b\\ \b\b| \b\b/ \b\b- \b\b\\ \b\b| \b\b/ \b\b- \b\b\\ \b\b| \b\b/ \b\b- \b\b\\ \b\b| \b\b/ \b\b- \b\b\\ \b\b| \b\b/ \b\b- \b\b\\ \b\b| \b\b/ \b\b- \b\b\\ \b\b| \b\b/ \b\b- \b\b\\ \b\b| \b\b/ \b\b- \b\b\\ \b\b| \b\b/ \b\b- \b\b\\ \b\b| \b\b/ \b\b- \b\b\\ \b\b| \b\b/ \b\b- \b\b\\ \b\b| \b\b/ \b\b- \b\b\\ \b\b| \b\b/ \b\b- \b\b\\ \b\b| \b\b/ \b\b- \b\b\\ \b\b| \b\b/ \b\b- \b\b\\ \b\b| \b\b/ \b\b- \b\b\\ \b\b| \b\b/ \b\b- \b\b\\ \b\b| \b\b/ \b\b- \b\b\\ \b\b| \b\b/ \b\b- \b\b\\ \b\b| \b\b/ \b\b- \b\b\\ \b\b| \b\b/ \b\b- \b\b\\ \b\b| \b\b/ \b\b- \b\b\\ \b\b| \b\b/ \b\b- \b\b\\ \b\b| \b\b/ \b\b- \b\b\\ \b\b| \b\b/ \b\b- \b\b\\ \b\b| \b\b/ \b\b- \b\b\\ \b\b| \b\b/ \b\b- \b\b\\ \b\b| \b\b/ \b\b- \b\b\\ \b\b| \b\b/ \b\b- \b\b\\ \b\b| \b\b/ \b\b- \b\b\\ \b\b| \b\b/ \b\b- \b\b\\ \b\b| \b\b/ \b\b- \b\b\\ \b\b| \b\b/ \b\b- \b\b\\ \b\b| \b\b/ \b\b- \b\b\\ \b\b| \b\b/ \b\b- \b\b\\ \b\b| \b\b/ \b\b- \b\b\\ \b\b| \b\b/ \b\b- \b\b\\ \b\b| \b\b/ \b\b- \b\b\\ \b\b| \b\b/ \b\b- \b\b\\ \b\b| \b\b/ \b\b- \b\b\\ \b\b| \b\b/ \b\b- \b\b\\ \b\b| \b\b/ \b\b- \b\b\\ \b\b| \b\b/ \b\b- \b\b\\ \b\b| \b\b/ \b\b- \b\b\\ \b\b| \b\b/ \b\b- \b\b\\ \b\b| \b\b/ \b\b- \b\b\\ \b\b| \b\b/ \b\b- \b\b\\ \b\b| \b\b/ \b\b- \b\b\\ \b\b| \b\b/ \b\b- \b\b\\ \b\b| \b\b/ \b\b- \b\b\\ \b\b| \b\b/ \b\b- \b\b\\ \b\b| \b\b/ \b\b- \b\b\\ \b\b| \b\b/ \b\b- \b\b\\ \b\b| \b\b/ \b\b- \b\b\\ \b\b| \b\b/ \b\b- \b\bdone\n",
            "Solving environment: | \b\b/ \b\b- \b\b\\ \b\b| \b\b/ \b\b- \b\b\\ \b\b| \b\b/ \b\b- \b\b\\ \b\b| \b\b/ \b\b- \b\b\\ \b\b| \b\b/ \b\b- \b\b\\ \b\b| \b\b/ \b\b- \b\b\\ \b\b| \b\b/ \b\b- \b\b\\ \b\b| \b\b/ \b\b- \b\b\\ \b\b| \b\b/ \b\b- \b\b\\ \b\b| \b\b/ \b\b- \b\b\\ \b\b| \b\b/ \b\b- \b\b\\ \b\b| \b\b/ \b\b- \b\b\\ \b\b| \b\b/ \b\b- \b\b\\ \b\b| \b\b/ \b\b- \b\b\\ \b\b| \b\b/ \b\b- \b\b\\ \b\b| \b\b/ \b\b- \b\b\\ \b\b| \b\b/ \b\b- \b\b\\ \b\b| \b\b/ \b\b- \b\b\\ \b\b| \b\b/ \b\b- \b\b\\ \b\b| \b\b/ \b\b- \b\b\\ \b\b| \b\b/ \b\b- \b\b\\ \b\b| \b\b/ \b\b- \b\b\\ \b\b| \b\b/ \b\b- \b\b\\ \b\b| \b\b/ \b\b- \b\b\\ \b\b| \b\b/ \b\b- \b\b\\ \b\b| \b\b/ \b\b- \b\b\\ \b\b| \b\b/ \b\b- \b\b\\ \b\b| \b\b/ \b\b- \b\b\\ \b\b| \b\b/ \b\b- \b\b\\ \b\b| \b\b/ \b\b- \b\b\\ \b\b| \b\b/ \b\b- \b\b\\ \b\b| \b\b/ \b\b- \b\b\\ \b\b| \b\b/ \b\b- \b\b\\ \b\b| \b\b/ \b\b- \b\b\\ \b\b| \b\b/ \b\b- \b\b\\ \b\b| \b\b/ \b\b- \b\b\\ \b\b| \b\b/ \b\b- \b\b\\ \b\b| \b\b/ \b\b- \b\b\\ \b\b| \b\b/ \b\b- \b\b\\ \b\b| \b\b/ \b\b- \b\b\\ \b\b| \b\b/ \b\b- \b\b\\ \b\b| \b\b/ \b\b- \b\b\\ \b\b| \b\b/ \b\b- \b\b\\ \b\b| \b\b/ \b\b- \b\b\\ \b\b| \b\b/ \b\b- \b\b\\ \b\b| \b\b/ \b\b- \b\b\\ \b\b| \b\b/ \b\b- \b\b\\ \b\b| \b\b/ \b\b- \b\b\\ \b\b| \b\b/ \b\b- \b\b\\ \b\b| \b\b/ \b\b- \b\b\\ \b\b| \b\b/ \b\b- \b\b\\ \b\b| \b\b/ \b\b- \b\b\\ \b\b| \b\b/ \b\b- \b\b\\ \b\b| \b\b/ \b\b- \b\b\\ \b\b| \b\b/ \b\b- \b\b\\ \b\b| \b\b/ \b\b- \b\b\\ \b\b| \b\b/ \b\b- \b\b\\ \b\b| \b\b/ \b\b- \b\b\\ \b\b| \b\b/ \b\b- \b\b\\ \b\b| \b\b/ \b\b- \b\b\\ \b\b| \b\b/ \b\b- \b\b\\ \b\b| \b\b/ \b\b- \b\b\\ \b\b| \b\b/ \b\b- \b\b\\ \b\b| \b\b/ \b\b- \b\b\\ \b\b| \b\b/ \b\b- \b\b\\ \b\b| \b\b/ \b\b- \b\b\\ \b\b| \b\b/ \b\b- \b\b\\ \b\b| \b\b/ \b\b- \b\b\\ \b\b| \b\b/ \b\b- \b\b\\ \b\b| \b\b/ \b\b- \b\b\\ \b\bfailed with initial frozen solve. Retrying with flexible solve.\n",
            "Solving environment: / \b\b- \b\b\\ \b\b| \b\b/ \b\b- \b\b\\ \b\b| \b\b/ \b\b- \b\b\\ \b\b| \b\b/ \b\b- \b\b\\ \b\b| \b\b/ \b\b- \b\b\\ \b\b| \b\b/ \b\b- \b\b\\ \b\b| \b\b/ \b\b- \b\b\\ \b\b| \b\b/ \b\b- \b\b\\ \b\b| \b\b/ \b\b- \b\b\\ \b\b| \b\b/ \b\b- \b\b\\ \b\b| \b\b/ \b\b- \b\b\\ \b\b| \b\b/ \b\b- \b\b\\ \b\b| \b\b/ \b\b- \b\b\\ \b\b| \b\b/ \b\b- \b\b\\ \b\b| \b\b/ \b\b- \b\b\\ \b\b| \b\b/ \b\b- \b\b\\ \b\b| \b\b/ \b\b- \b\b\\ \b\b| \b\b/ \b\b- \b\b\\ \b\b| \b\b/ \b\b- \b\b\\ \b\b| \b\b/ \b\b- \b\b\\ \b\b| \b\b/ \b\b- \b\b\\ \b\b| \b\b/ \b\b- \b\b\\ \b\b| \b\b/ \b\b- \b\b\\ \b\b| \b\b/ \b\b- \b\b\\ \b\b| \b\b/ \b\b- \b\b\\ \b\b| \b\b/ \b\b- \b\b\\ \b\b| \b\b/ \b\b- \b\b\\ \b\b| \b\b/ \b\b- \b\b\\ \b\b| \b\b/ \b\b- \b\b\\ \b\b| \b\b/ \b\b- \b\b\\ \b\b| \b\b/ \b\b- \b\b\\ \b\b| \b\b/ \b\b- \b\b\\ \b\b| \b\b/ \b\b- \b\b\\ \b\b| \b\b/ \b\b- \b\b\\ \b\b| \b\b/ \b\b- \b\b\\ \b\b| \b\b/ \b\b- \b\b\\ \b\b| \b\b/ \b\b- \b\b\\ \b\b| \b\b/ \b\b- \b\b\\ \b\b| \b\b/ \b\b- \b\b\\ \b\b| \b\b/ \b\b- \b\b\\ \b\b| \b\b/ \b\b- \b\b\\ \b\b| \b\b/ \b\b- \b\b\\ \b\b| \b\b/ \b\b- \b\b\\ \b\b| \b\b/ \b\b- \b\b\\ \b\b| \b\b/ \b\b- \b\b\\ \b\b| \b\b/ \b\b- \b\b\\ \b\b| \b\b/ \b\b- \b\b\\ \b\b| \b\b/ \b\b- \b\b\\ \b\b| \b\b/ \b\b- \b\b\\ \b\b| \b\b/ \b\b- \b\b\\ \b\b| \b\b/ \b\b- \b\b\\ \b\b| \b\b/ \b\b- \b\b\\ \b\b| \b\b/ \b\b- \b\b\\ \b\b| \b\b/ \b\b- \b\b\\ \b\b| \b\b/ \b\b- \b\b\\ \b\b| \b\b/ \b\b- \b\b\\ \b\b| \b\b/ \b\b- \b\b\\ \b\b| \b\b/ \b\b- \b\b\\ \b\b| \b\b/ \b\b- \b\b\\ \b\b| \b\b/ \b\b- \b\b\\ \b\b| \b\b/ \b\b- \b\b\\ \b\b| \b\b/ \b\b- \b\b\\ \b\bdone\n",
            "\n",
            "\n",
            "==> WARNING: A newer version of conda exists. <==\n",
            "  current version: 4.9.2\n",
            "  latest version: 4.10.3\n",
            "\n",
            "Please update conda by running\n",
            "\n",
            "    $ conda update -n base -c defaults conda\n",
            "\n",
            "\n",
            "\n",
            "## Package Plan ##\n",
            "\n",
            "  environment location: /usr/local\n",
            "\n",
            "  added / updated specs:\n",
            "    - pyeddl-gpu\n",
            "\n",
            "\n",
            "The following packages will be downloaded:\n",
            "\n",
            "    package                    |            build\n",
            "    ---------------------------|-----------------\n",
            "    _libgcc_mutex-0.1          |      conda_forge           3 KB  conda-forge\n",
            "    _openmp_mutex-4.5          |            1_gnu          22 KB  conda-forge\n",
            "    brotlipy-0.7.0             |py37h5e8e339_1003         342 KB  conda-forge\n",
            "    ca-certificates-2021.10.8  |       ha878542_0         139 KB  conda-forge\n",
            "    certifi-2021.10.8          |   py37h89c1867_1         145 KB  conda-forge\n",
            "    cffi-1.15.0                |   py37h036bc23_0         225 KB  conda-forge\n",
            "    chardet-4.0.0              |   py37h89c1867_2         199 KB  conda-forge\n",
            "    charset-normalizer-2.0.0   |     pyhd8ed1ab_0          32 KB  conda-forge\n",
            "    colorama-0.4.4             |     pyh9f0ad1d_0          18 KB  conda-forge\n",
            "    conda-4.10.3               |   py37h89c1867_3         3.1 MB  conda-forge\n",
            "    conda-package-handling-1.7.3|   py37h5e8e339_1        1008 KB  conda-forge\n",
            "    cryptography-35.0.0        |   py37hf1a17b8_2         1.6 MB  conda-forge\n",
            "    cudatoolkit-10.1.243       |       h036e899_9       428.2 MB  conda-forge\n",
            "    eddl-gpu-1.0.3b0           |       h476a1fd_0         4.2 MB  dhealth\n",
            "    eigen-3.3.9                |       h4bd325d_1         970 KB  conda-forge\n",
            "    gettext-0.19.8.1           |    h73d1719_1008         3.6 MB  conda-forge\n",
            "    idna-3.1                   |     pyhd3deb0d_0          52 KB  conda-forge\n",
            "    ld_impl_linux-64-2.36.1    |       hea4e1c9_2         667 KB  conda-forge\n",
            "    libblas-3.9.0              |12_linux64_openblas          12 KB  conda-forge\n",
            "    libcblas-3.9.0             |12_linux64_openblas          12 KB  conda-forge\n",
            "    libedit-3.1.20191231       |       he28a2e2_2         121 KB  conda-forge\n",
            "    libffi-3.4.2               |       h7f98852_5          57 KB  conda-forge\n",
            "    libgcc-ng-11.2.0           |      h1d223b6_11         887 KB  conda-forge\n",
            "    libgfortran-ng-11.2.0      |      h69a702a_11          19 KB  conda-forge\n",
            "    libgfortran5-11.2.0        |      h5c6108e_11         1.7 MB  conda-forge\n",
            "    libgomp-11.2.0             |      h1d223b6_11         427 KB  conda-forge\n",
            "    libidn2-2.3.2              |       h7f98852_0          98 KB  conda-forge\n",
            "    liblapack-3.9.0            |12_linux64_openblas          12 KB  conda-forge\n",
            "    libnsl-2.0.0               |       h7f98852_0          31 KB  conda-forge\n",
            "    libopenblas-0.3.18         |pthreads_h8fe5266_0         9.6 MB  conda-forge\n",
            "    libprotobuf-3.11.4         |       h8b12597_0         4.8 MB  conda-forge\n",
            "    libstdcxx-ng-11.2.0        |      he4da1e4_11         4.2 MB  conda-forge\n",
            "    libunistring-0.9.10        |       h7f98852_0         1.4 MB  conda-forge\n",
            "    libzlib-1.2.11             |    h36c2ea0_1013          59 KB  conda-forge\n",
            "    ncurses-6.2                |       h58526e2_4         985 KB  conda-forge\n",
            "    numpy-1.21.4               |   py37h31617e3_0         6.1 MB  conda-forge\n",
            "    openssl-1.1.1l             |       h7f98852_0         2.1 MB  conda-forge\n",
            "    pip-21.3.1                 |     pyhd8ed1ab_0         1.2 MB  conda-forge\n",
            "    protobuf-3.11.4            |   py37h3340039_1         695 KB  conda-forge\n",
            "    pycosat-0.6.3              |py37h5e8e339_1009         107 KB  conda-forge\n",
            "    pycparser-2.21             |     pyhd8ed1ab_0         100 KB  conda-forge\n",
            "    pyeddl-gpu-1.1.0           |   py37h663d75d_0         661 KB  dhealth\n",
            "    pyopenssl-21.0.0           |     pyhd8ed1ab_0          48 KB  conda-forge\n",
            "    pysocks-1.7.1              |   py37h89c1867_4          28 KB  conda-forge\n",
            "    python-3.7.12              |hb7a2778_100_cpython        57.3 MB  conda-forge\n",
            "    python_abi-3.7             |          2_cp37m           4 KB  conda-forge\n",
            "    readline-8.1               |       h46c0cb4_0         295 KB  conda-forge\n",
            "    requests-2.26.0            |     pyhd8ed1ab_0          52 KB  conda-forge\n",
            "    ruamel_yaml-0.15.80        |py37h5e8e339_1006         270 KB  conda-forge\n",
            "    setuptools-58.5.3          |   py37h89c1867_0         1.0 MB  conda-forge\n",
            "    six-1.16.0                 |     pyh6c4a22f_0          14 KB  conda-forge\n",
            "    sqlite-3.36.0              |       h9cd32fc_2         1.4 MB  conda-forge\n",
            "    tk-8.6.11                  |       h27826a3_1         3.3 MB  conda-forge\n",
            "    tqdm-4.62.3                |     pyhd8ed1ab_0          80 KB  conda-forge\n",
            "    urllib3-1.26.7             |     pyhd8ed1ab_0         100 KB  conda-forge\n",
            "    wget-1.20.3                |       ha56f1ee_1         804 KB  conda-forge\n",
            "    wheel-0.37.0               |     pyhd8ed1ab_1          31 KB  conda-forge\n",
            "    xz-5.2.5                   |       h516909a_1         343 KB  conda-forge\n",
            "    yaml-0.2.5                 |       h516909a_0          82 KB  conda-forge\n",
            "    zlib-1.2.11                |    h36c2ea0_1013          86 KB  conda-forge\n",
            "    ------------------------------------------------------------\n",
            "                                           Total:       545.0 MB\n",
            "\n",
            "The following NEW packages will be INSTALLED:\n",
            "\n",
            "  _openmp_mutex      conda-forge/linux-64::_openmp_mutex-4.5-1_gnu\n",
            "  charset-normalizer conda-forge/noarch::charset-normalizer-2.0.0-pyhd8ed1ab_0\n",
            "  colorama           conda-forge/noarch::colorama-0.4.4-pyh9f0ad1d_0\n",
            "  cudatoolkit        conda-forge/linux-64::cudatoolkit-10.1.243-h036e899_9\n",
            "  eddl-gpu           dhealth/linux-64::eddl-gpu-1.0.3b0-h476a1fd_0\n",
            "  eigen              conda-forge/linux-64::eigen-3.3.9-h4bd325d_1\n",
            "  gettext            conda-forge/linux-64::gettext-0.19.8.1-h73d1719_1008\n",
            "  libblas            conda-forge/linux-64::libblas-3.9.0-12_linux64_openblas\n",
            "  libcblas           conda-forge/linux-64::libcblas-3.9.0-12_linux64_openblas\n",
            "  libgfortran-ng     conda-forge/linux-64::libgfortran-ng-11.2.0-h69a702a_11\n",
            "  libgfortran5       conda-forge/linux-64::libgfortran5-11.2.0-h5c6108e_11\n",
            "  libgomp            conda-forge/linux-64::libgomp-11.2.0-h1d223b6_11\n",
            "  libidn2            conda-forge/linux-64::libidn2-2.3.2-h7f98852_0\n",
            "  liblapack          conda-forge/linux-64::liblapack-3.9.0-12_linux64_openblas\n",
            "  libnsl             conda-forge/linux-64::libnsl-2.0.0-h7f98852_0\n",
            "  libopenblas        conda-forge/linux-64::libopenblas-0.3.18-pthreads_h8fe5266_0\n",
            "  libprotobuf        conda-forge/linux-64::libprotobuf-3.11.4-h8b12597_0\n",
            "  libunistring       conda-forge/linux-64::libunistring-0.9.10-h7f98852_0\n",
            "  libzlib            conda-forge/linux-64::libzlib-1.2.11-h36c2ea0_1013\n",
            "  numpy              conda-forge/linux-64::numpy-1.21.4-py37h31617e3_0\n",
            "  protobuf           conda-forge/linux-64::protobuf-3.11.4-py37h3340039_1\n",
            "  pyeddl-gpu         dhealth/linux-64::pyeddl-gpu-1.1.0-py37h663d75d_0\n",
            "  python_abi         conda-forge/linux-64::python_abi-3.7-2_cp37m\n",
            "  wget               conda-forge/linux-64::wget-1.20.3-ha56f1ee_1\n",
            "\n",
            "The following packages will be UPDATED:\n",
            "\n",
            "  ca-certificates    pkgs/main::ca-certificates-2020.10.14~ --> conda-forge::ca-certificates-2021.10.8-ha878542_0\n",
            "  certifi            pkgs/main/noarch::certifi-2020.6.20-p~ --> conda-forge/linux-64::certifi-2021.10.8-py37h89c1867_1\n",
            "  cffi                pkgs/main::cffi-1.14.3-py37h261ae71_2 --> conda-forge::cffi-1.15.0-py37h036bc23_0\n",
            "  chardet            pkgs/main::chardet-3.0.4-py37h06a4308~ --> conda-forge::chardet-4.0.0-py37h89c1867_2\n",
            "  conda               pkgs/main::conda-4.9.2-py37h06a4308_0 --> conda-forge::conda-4.10.3-py37h89c1867_3\n",
            "  conda-package-han~ pkgs/main::conda-package-handling-1.7~ --> conda-forge::conda-package-handling-1.7.3-py37h5e8e339_1\n",
            "  cryptography       pkgs/main::cryptography-3.2.1-py37h3c~ --> conda-forge::cryptography-35.0.0-py37hf1a17b8_2\n",
            "  idna                            pkgs/main::idna-2.10-py_0 --> conda-forge::idna-3.1-pyhd3deb0d_0\n",
            "  ld_impl_linux-64   pkgs/main::ld_impl_linux-64-2.33.1-h5~ --> conda-forge::ld_impl_linux-64-2.36.1-hea4e1c9_2\n",
            "  libedit            pkgs/main::libedit-3.1.20191231-h14c3~ --> conda-forge::libedit-3.1.20191231-he28a2e2_2\n",
            "  libffi                   pkgs/main::libffi-3.3-he6710b0_2 --> conda-forge::libffi-3.4.2-h7f98852_5\n",
            "  libgcc-ng           pkgs/main::libgcc-ng-9.1.0-hdf63c60_0 --> conda-forge::libgcc-ng-11.2.0-h1d223b6_11\n",
            "  libstdcxx-ng       pkgs/main::libstdcxx-ng-9.1.0-hdf63c6~ --> conda-forge::libstdcxx-ng-11.2.0-he4da1e4_11\n",
            "  ncurses                 pkgs/main::ncurses-6.2-he6710b0_1 --> conda-forge::ncurses-6.2-h58526e2_4\n",
            "  openssl              pkgs/main::openssl-1.1.1h-h7b6447c_0 --> conda-forge::openssl-1.1.1l-h7f98852_0\n",
            "  pip                pkgs/main/linux-64::pip-20.2.4-py37h0~ --> conda-forge/noarch::pip-21.3.1-pyhd8ed1ab_0\n",
            "  pycosat            pkgs/main::pycosat-0.6.3-py37h27cfd23~ --> conda-forge::pycosat-0.6.3-py37h5e8e339_1009\n",
            "  pycparser                  pkgs/main::pycparser-2.20-py_2 --> conda-forge::pycparser-2.21-pyhd8ed1ab_0\n",
            "  pyopenssl          pkgs/main::pyopenssl-19.1.0-pyhd3eb1b~ --> conda-forge::pyopenssl-21.0.0-pyhd8ed1ab_0\n",
            "  pysocks                   pkgs/main::pysocks-1.7.1-py37_1 --> conda-forge::pysocks-1.7.1-py37h89c1867_4\n",
            "  python                 pkgs/main::python-3.7.9-h7579374_0 --> conda-forge::python-3.7.12-hb7a2778_100_cpython\n",
            "  readline               pkgs/main::readline-8.0-h7b6447c_0 --> conda-forge::readline-8.1-h46c0cb4_0\n",
            "  requests                  pkgs/main::requests-2.24.0-py_0 --> conda-forge::requests-2.26.0-pyhd8ed1ab_0\n",
            "  setuptools         pkgs/main::setuptools-50.3.1-py37h06a~ --> conda-forge::setuptools-58.5.3-py37h89c1867_0\n",
            "  six                pkgs/main/linux-64::six-1.15.0-py37h0~ --> conda-forge/noarch::six-1.16.0-pyh6c4a22f_0\n",
            "  sqlite                pkgs/main::sqlite-3.33.0-h62c20be_0 --> conda-forge::sqlite-3.36.0-h9cd32fc_2\n",
            "  tk                        pkgs/main::tk-8.6.10-hbc83047_0 --> conda-forge::tk-8.6.11-h27826a3_1\n",
            "  tqdm                  pkgs/main::tqdm-4.51.0-pyhd3eb1b0_0 --> conda-forge::tqdm-4.62.3-pyhd8ed1ab_0\n",
            "  urllib3                   pkgs/main::urllib3-1.25.11-py_0 --> conda-forge::urllib3-1.26.7-pyhd8ed1ab_0\n",
            "  wheel                pkgs/main::wheel-0.35.1-pyhd3eb1b0_0 --> conda-forge::wheel-0.37.0-pyhd8ed1ab_1\n",
            "  xz                         pkgs/main::xz-5.2.5-h7b6447c_0 --> conda-forge::xz-5.2.5-h516909a_1\n",
            "  zlib                    pkgs/main::zlib-1.2.11-h7b6447c_3 --> conda-forge::zlib-1.2.11-h36c2ea0_1013\n",
            "\n",
            "The following packages will be SUPERSEDED by a higher-priority channel:\n",
            "\n",
            "  _libgcc_mutex           pkgs/main::_libgcc_mutex-0.1-main --> conda-forge::_libgcc_mutex-0.1-conda_forge\n",
            "  brotlipy           pkgs/main::brotlipy-0.7.0-py37h27cfd2~ --> conda-forge::brotlipy-0.7.0-py37h5e8e339_1003\n",
            "  ruamel_yaml        pkgs/main::ruamel_yaml-0.15.87-py37h7~ --> conda-forge::ruamel_yaml-0.15.80-py37h5e8e339_1006\n",
            "  yaml                     pkgs/main::yaml-0.2.5-h7b6447c_0 --> conda-forge::yaml-0.2.5-h516909a_0\n",
            "\n",
            "\n",
            "\n",
            "Downloading and Extracting Packages\n",
            "conda-package-handli | 1008 KB   | : 100% 1.0/1 [00:00<00:00,  3.08it/s]\n",
            "libedit-3.1.20191231 | 121 KB    | : 100% 1.0/1 [00:00<00:00, 16.33it/s]\n",
            "cffi-1.15.0          | 225 KB    | : 100% 1.0/1 [00:00<00:00,  7.96it/s]\n",
            "chardet-4.0.0        | 199 KB    | : 100% 1.0/1 [00:00<00:00,  9.27it/s]\n",
            "ncurses-6.2          | 985 KB    | : 100% 1.0/1 [00:00<00:00,  2.15it/s]\n",
            "wget-1.20.3          | 804 KB    | : 100% 1.0/1 [00:00<00:00,  4.60it/s]\n",
            "wheel-0.37.0         | 31 KB     | : 100% 1.0/1 [00:00<00:00, 15.58it/s]\n",
            "libgfortran-ng-11.2. | 19 KB     | : 100% 1.0/1 [00:00<00:00, 17.02it/s]\n",
            "libgcc-ng-11.2.0     | 887 KB    | : 100% 1.0/1 [00:00<00:00,  5.51it/s]\n",
            "openssl-1.1.1l       | 2.1 MB    | : 100% 1.0/1 [00:00<00:00,  2.76it/s]\n",
            "tqdm-4.62.3          | 80 KB     | : 100% 1.0/1 [00:00<00:00, 17.35it/s]\n",
            "libunistring-0.9.10  | 1.4 MB    | : 100% 1.0/1 [00:00<00:00,  3.82it/s]\n",
            "gettext-0.19.8.1     | 3.6 MB    | : 100% 1.0/1 [00:00<00:00,  1.16it/s]\n",
            "python_abi-3.7       | 4 KB      | : 100% 1.0/1 [00:00<00:00, 19.22it/s]\n",
            "pycparser-2.21       | 100 KB    | : 100% 1.0/1 [00:00<00:00, 11.01it/s]\n",
            "xz-5.2.5             | 343 KB    | : 100% 1.0/1 [00:00<00:00,  9.17it/s]\n",
            "liblapack-3.9.0      | 12 KB     | : 100% 1.0/1 [00:00<00:00, 21.96it/s]\n",
            "eddl-gpu-1.0.3b0     | 4.2 MB    | : 100% 1.0/1 [00:01<00:00,  1.24s/it]\n",
            "urllib3-1.26.7       | 100 KB    | : 100% 1.0/1 [00:00<00:00, 16.17it/s]\n",
            "setuptools-58.5.3    | 1.0 MB    | : 100% 1.0/1 [00:00<00:00,  3.35it/s]\n",
            "libcblas-3.9.0       | 12 KB     | : 100% 1.0/1 [00:00<00:00, 24.88it/s]\n",
            "brotlipy-0.7.0       | 342 KB    | : 100% 1.0/1 [00:00<00:00, 11.58it/s]\n",
            "zlib-1.2.11          | 86 KB     | : 100% 1.0/1 [00:00<00:00, 15.01it/s]\n",
            "libstdcxx-ng-11.2.0  | 4.2 MB    | : 100% 1.0/1 [00:00<00:00,  1.24it/s]\n",
            "libzlib-1.2.11       | 59 KB     | : 100% 1.0/1 [00:00<00:00, 21.09it/s]\n",
            "sqlite-3.36.0        | 1.4 MB    | : 100% 1.0/1 [00:00<00:00,  3.75it/s]\n",
            "libopenblas-0.3.18   | 9.6 MB    | : 100% 1.0/1 [00:01<00:00,  1.85s/it]               \n",
            "six-1.16.0           | 14 KB     | : 100% 1.0/1 [00:00<00:00, 13.55it/s]\n",
            "libffi-3.4.2         | 57 KB     | : 100% 1.0/1 [00:00<00:00, 22.24it/s]\n",
            "pyeddl-gpu-1.1.0     | 661 KB    | : 100% 1.0/1 [00:00<00:00,  2.23it/s]\n",
            "libnsl-2.0.0         | 31 KB     | : 100% 1.0/1 [00:00<00:00, 23.21it/s]\n",
            "ld_impl_linux-64-2.3 | 667 KB    | : 100% 1.0/1 [00:00<00:00,  5.86it/s]\n",
            "colorama-0.4.4       | 18 KB     | : 100% 1.0/1 [00:00<00:00, 22.51it/s]\n",
            "requests-2.26.0      | 52 KB     | : 100% 1.0/1 [00:00<00:00, 19.81it/s]\n",
            "python-3.7.12        | 57.3 MB   | : 100% 1.0/1 [00:07<00:00,  7.58s/it]               \n",
            "numpy-1.21.4         | 6.1 MB    | : 100% 1.0/1 [00:01<00:00,  1.35s/it]\n",
            "libprotobuf-3.11.4   | 4.8 MB    | : 100% 1.0/1 [00:00<00:00,  1.01it/s]\n",
            "conda-4.10.3         | 3.1 MB    | : 100% 1.0/1 [00:00<00:00,  1.59it/s]\n",
            "readline-8.1         | 295 KB    | : 100% 1.0/1 [00:00<00:00, 10.94it/s]\n",
            "pyopenssl-21.0.0     | 48 KB     | : 100% 1.0/1 [00:00<00:00, 21.26it/s]\n",
            "_libgcc_mutex-0.1    | 3 KB      | : 100% 1.0/1 [00:00<00:00, 21.39it/s]\n",
            "cudatoolkit-10.1.243 | 428.2 MB  | : 100% 1.0/1 [00:56<00:00, 56.84s/it]               \n",
            "charset-normalizer-2 | 32 KB     | : 100% 1.0/1 [00:00<00:00, 13.77it/s]\n",
            "libgomp-11.2.0       | 427 KB    | : 100% 1.0/1 [00:00<00:00,  9.91it/s]\n",
            "certifi-2021.10.8    | 145 KB    | : 100% 1.0/1 [00:00<00:00, 16.00it/s]\n",
            "ruamel_yaml-0.15.80  | 270 KB    | : 100% 1.0/1 [00:00<00:00, 10.44it/s]\n",
            "_openmp_mutex-4.5    | 22 KB     | : 100% 1.0/1 [00:00<00:00, 19.21it/s]\n",
            "libgfortran5-11.2.0  | 1.7 MB    | : 100% 1.0/1 [00:00<00:00,  2.94it/s]\n",
            "protobuf-3.11.4      | 695 KB    | : 100% 1.0/1 [00:00<00:00,  4.64it/s]\n",
            "idna-3.1             | 52 KB     | : 100% 1.0/1 [00:00<00:00, 16.98it/s]\n",
            "ca-certificates-2021 | 139 KB    | : 100% 1.0/1 [00:00<00:00, 13.46it/s]\n",
            "tk-8.6.11            | 3.3 MB    | : 100% 1.0/1 [00:00<00:00,  1.62it/s]\n",
            "pip-21.3.1           | 1.2 MB    | : 100% 1.0/1 [00:00<00:00,  3.17it/s]\n",
            "libblas-3.9.0        | 12 KB     | : 100% 1.0/1 [00:00<00:00, 19.94it/s]\n",
            "libidn2-2.3.2        | 98 KB     | : 100% 1.0/1 [00:00<00:00, 14.20it/s]\n",
            "pycosat-0.6.3        | 107 KB    | : 100% 1.0/1 [00:00<00:00, 14.73it/s]\n",
            "cryptography-35.0.0  | 1.6 MB    | : 100% 1.0/1 [00:00<00:00,  2.84it/s]\n",
            "pysocks-1.7.1        | 28 KB     | : 100% 1.0/1 [00:00<00:00, 21.21it/s]\n",
            "yaml-0.2.5           | 82 KB     | : 100% 1.0/1 [00:00<00:00, 10.44it/s]\n",
            "eigen-3.3.9          | 970 KB    | : 100% 1.0/1 [00:00<00:00,  3.16it/s]\n",
            "Preparing transaction: / \b\b- \b\b\\ \b\b| \b\b/ \b\b- \b\bdone\n",
            "Verifying transaction: | \b\b/ \b\b- \b\b\\ \b\b| \b\b/ \b\b- \b\b\\ \b\b| \b\b/ \b\b- \b\b\\ \b\b| \b\b/ \b\b- \b\b\\ \b\b| \b\b/ \b\b- \b\b\\ \b\b| \b\b/ \b\b- \b\b\\ \b\bdone\n",
            "Executing transaction: / \b\b- \b\b\\ \b\b| \b\b/ \b\b- \b\b\\ \b\b| \b\b/ \b\b- \b\b\\ \b\b| \b\b/ \b\b- \b\b\\ \b\b| \b\b/ By downloading and using the CUDA Toolkit conda packages, you accept the terms and conditions of the CUDA End User License Agreement (EULA): https://docs.nvidia.com/cuda/eula/index.html\n",
            "\n",
            "\b\b- \b\b\\ \b\b| \b\b/ \b\b- \b\b\\ \b\b| \b\b/ \b\b- \b\b\\ \b\b| \b\b/ \b\b- \b\b\\ \b\b| \b\b/ \b\b- \b\b\\ \b\b| \b\b/ \b\bdone\n"
          ]
        }
      ]
    },
    {
      "cell_type": "code",
      "metadata": {
        "colab": {
          "base_uri": "https://localhost:8080/",
          "height": 35
        },
        "id": "kyUuynuZs2ht",
        "outputId": "e7e0bef1-6950-4f88-f813-550c686c2585"
      },
      "source": [
        "import pyeddl\n",
        "pyeddl.__version__"
      ],
      "execution_count": 6,
      "outputs": [
        {
          "output_type": "execute_result",
          "data": {
            "application/vnd.google.colaboratory.intrinsic+json": {
              "type": "string"
            },
            "text/plain": [
              "'1.1.0'"
            ]
          },
          "metadata": {},
          "execution_count": 6
        }
      ]
    },
    {
      "cell_type": "code",
      "metadata": {
        "colab": {
          "base_uri": "https://localhost:8080/"
        },
        "id": "OBwsMzqEuEiK",
        "outputId": "7dbc3714-991c-43ec-d076-b6a609bf0da4"
      },
      "source": [
        "import numpy as np\n",
        "from pyeddl.tensor import Tensor\n",
        "a = np.arange(6).reshape([2, 3]).astype(np.float32)\n",
        "print(a)\n",
        "t = Tensor.fromarray(a)\n",
        "t.print()"
      ],
      "execution_count": 7,
      "outputs": [
        {
          "output_type": "stream",
          "name": "stdout",
          "text": [
            "[[0. 1. 2.]\n",
            " [3. 4. 5.]]\n"
          ]
        }
      ]
    },
    {
      "cell_type": "code",
      "metadata": {
        "colab": {
          "base_uri": "https://localhost:8080/"
        },
        "id": "mfkgMZFquHx9",
        "outputId": "4ba16c4c-e88d-4500-f486-660fac77edb8"
      },
      "source": [
        "t.device"
      ],
      "execution_count": 8,
      "outputs": [
        {
          "output_type": "execute_result",
          "data": {
            "text/plain": [
              "0"
            ]
          },
          "metadata": {},
          "execution_count": 8
        }
      ]
    },
    {
      "cell_type": "code",
      "metadata": {
        "id": "HWe_SWhduKaJ"
      },
      "source": [
        "t.toGPU()"
      ],
      "execution_count": 9,
      "outputs": []
    },
    {
      "cell_type": "code",
      "metadata": {
        "colab": {
          "base_uri": "https://localhost:8080/"
        },
        "id": "u3Y78jkxuM9l",
        "outputId": "76142357-c62f-40eb-949a-1304d59bed9b"
      },
      "source": [
        "t.device"
      ],
      "execution_count": 10,
      "outputs": [
        {
          "output_type": "execute_result",
          "data": {
            "text/plain": [
              "1000"
            ]
          },
          "metadata": {},
          "execution_count": 10
        }
      ]
    }
  ]
}